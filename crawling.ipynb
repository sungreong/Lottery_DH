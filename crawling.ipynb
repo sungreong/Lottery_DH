{
 "metadata": {
  "language_info": {
   "codemirror_mode": {
    "name": "ipython",
    "version": 3
   },
   "file_extension": ".py",
   "mimetype": "text/x-python",
   "name": "python",
   "nbconvert_exporter": "python",
   "pygments_lexer": "ipython3",
   "version": "3.8.8"
  },
  "orig_nbformat": 2,
  "kernelspec": {
   "name": "python388jvsc74a57bd0d3773b654528d79880d3e2b33a682f0f55f4d8370c8ead39985baabf4eb4f1db",
   "display_name": "Python 3.8.8 64-bit ('test': conda)"
  }
 },
 "nbformat": 4,
 "nbformat_minor": 2,
 "cells": [
  {
   "cell_type": "code",
   "execution_count": 1,
   "metadata": {},
   "outputs": [],
   "source": [
    "import requests\n",
    "url = \"https://dhlottery.co.kr/common.do?method=main\" \n",
    "html = requests.get(url).text"
   ]
  },
  {
   "cell_type": "code",
   "execution_count": 2,
   "metadata": {},
   "outputs": [],
   "source": [
    "import requests \n",
    "from bs4 import BeautifulSoup \n",
    "def getMaxRoundNum() -> int: \n",
    "    url = \"https://dhlottery.co.kr/common.do?method=main\"\n",
    "    html = requests.get(url).text \n",
    "    soup = BeautifulSoup(html, \"lxml\") \n",
    "    tag = soup.find(name=\"strong\", attrs={\"id\": \"lottoDrwNo\"}) \n",
    "    return int(tag.text)"
   ]
  },
  {
   "cell_type": "code",
   "execution_count": 3,
   "metadata": {},
   "outputs": [
    {
     "output_type": "execute_result",
     "data": {
      "text/plain": [
       "962"
      ]
     },
     "metadata": {},
     "execution_count": 3
    }
   ],
   "source": [
    "getMaxRoundNum()"
   ]
  },
  {
   "cell_type": "code",
   "execution_count": 4,
   "metadata": {},
   "outputs": [],
   "source": [
    "import requests \n",
    "from datetime import datetime \n",
    "from bs4 import BeautifulSoup \n",
    "def getWinNumbers(round_num: int): \n",
    "    url = f\"https://dhlottery.co.kr/gameResult.do?method=byWin&drwNo={round_num}\"\n",
    "    html = requests.get(url).text \n",
    "    soup = BeautifulSoup(html, \"lxml\") \n",
    "    win_result_tag = soup.find(name=\"div\", attrs={\"class\": \"win_result\"}) \n",
    "    strong_tags = win_result_tag.find_all(\"strong\")\n",
    "    round_num_text = strong_tags[0].text.replace(\"회\", '') \n",
    "    round_num_query = int(round_num_text) # 추첨일 읽기\n",
    "    p_tags = win_result_tag.find_all(\"p\", \"desc\") \n",
    "    draw_date = datetime.strptime(p_tags[0].text, \"(%Y년 %m월 %d일 추첨)\") # 당첨번호 6개 읽기 \n",
    "    num_win_tag = win_result_tag.find(name=\"div\", attrs={\"class\": \"num win\"}) \n",
    "    p_tag = num_win_tag.find(\"p\") \n",
    "    win_nums = [int(x.text) for x in p_tag.find_all(\"span\")] # 보너스 번호 읽기\n",
    "    num_bonus_tag = win_result_tag.find(name=\"div\", attrs={\"class\": \"num bonus\"}) \n",
    "    p_tag = num_bonus_tag.find(\"p\") \n",
    "    bonus_num = int(p_tag.find(\"span\").text)\n",
    "    return { \"round_num\": round_num_query, \"draw_date\": draw_date, \"win_nums\": win_nums, \"bonus_num\": bonus_num }"
   ]
  },
  {
   "cell_type": "code",
   "execution_count": 6,
   "metadata": {},
   "outputs": [],
   "source": [
    "lottery_dict = [getWinNumbers(num) for num in  range(1,getMaxRoundNum()+1)]"
   ]
  },
  {
   "cell_type": "code",
   "execution_count": 9,
   "metadata": {},
   "outputs": [],
   "source": [
    "import pandas as pd\n",
    "data = pd.DataFrame(lottery_dict)"
   ]
  },
  {
   "cell_type": "code",
   "execution_count": 11,
   "metadata": {},
   "outputs": [
    {
     "output_type": "execute_result",
     "data": {
      "text/plain": [
       "     round_num  draw_date                  win_nums  bonus_num\n",
       "0            1 2002-12-07  [10, 23, 29, 33, 37, 40]         16\n",
       "1            2 2002-12-14   [9, 13, 21, 25, 32, 42]          2\n",
       "2            3 2002-12-21  [11, 16, 19, 21, 27, 31]         30\n",
       "3            4 2002-12-28  [14, 27, 30, 31, 40, 42]          2\n",
       "4            5 2003-01-04  [16, 24, 29, 40, 41, 42]          3\n",
       "..         ...        ...                       ...        ...\n",
       "957        958 2021-04-10    [2, 9, 10, 16, 35, 37]          1\n",
       "958        959 2021-04-17   [1, 14, 15, 24, 40, 41]         35\n",
       "959        960 2021-04-24   [2, 18, 24, 30, 32, 45]         14\n",
       "960        961 2021-05-01  [11, 20, 29, 31, 33, 42]         43\n",
       "961        962 2021-05-08   [1, 18, 28, 31, 34, 43]         40\n",
       "\n",
       "[962 rows x 4 columns]"
      ],
      "text/html": "<div>\n<style scoped>\n    .dataframe tbody tr th:only-of-type {\n        vertical-align: middle;\n    }\n\n    .dataframe tbody tr th {\n        vertical-align: top;\n    }\n\n    .dataframe thead th {\n        text-align: right;\n    }\n</style>\n<table border=\"1\" class=\"dataframe\">\n  <thead>\n    <tr style=\"text-align: right;\">\n      <th></th>\n      <th>round_num</th>\n      <th>draw_date</th>\n      <th>win_nums</th>\n      <th>bonus_num</th>\n    </tr>\n  </thead>\n  <tbody>\n    <tr>\n      <th>0</th>\n      <td>1</td>\n      <td>2002-12-07</td>\n      <td>[10, 23, 29, 33, 37, 40]</td>\n      <td>16</td>\n    </tr>\n    <tr>\n      <th>1</th>\n      <td>2</td>\n      <td>2002-12-14</td>\n      <td>[9, 13, 21, 25, 32, 42]</td>\n      <td>2</td>\n    </tr>\n    <tr>\n      <th>2</th>\n      <td>3</td>\n      <td>2002-12-21</td>\n      <td>[11, 16, 19, 21, 27, 31]</td>\n      <td>30</td>\n    </tr>\n    <tr>\n      <th>3</th>\n      <td>4</td>\n      <td>2002-12-28</td>\n      <td>[14, 27, 30, 31, 40, 42]</td>\n      <td>2</td>\n    </tr>\n    <tr>\n      <th>4</th>\n      <td>5</td>\n      <td>2003-01-04</td>\n      <td>[16, 24, 29, 40, 41, 42]</td>\n      <td>3</td>\n    </tr>\n    <tr>\n      <th>...</th>\n      <td>...</td>\n      <td>...</td>\n      <td>...</td>\n      <td>...</td>\n    </tr>\n    <tr>\n      <th>957</th>\n      <td>958</td>\n      <td>2021-04-10</td>\n      <td>[2, 9, 10, 16, 35, 37]</td>\n      <td>1</td>\n    </tr>\n    <tr>\n      <th>958</th>\n      <td>959</td>\n      <td>2021-04-17</td>\n      <td>[1, 14, 15, 24, 40, 41]</td>\n      <td>35</td>\n    </tr>\n    <tr>\n      <th>959</th>\n      <td>960</td>\n      <td>2021-04-24</td>\n      <td>[2, 18, 24, 30, 32, 45]</td>\n      <td>14</td>\n    </tr>\n    <tr>\n      <th>960</th>\n      <td>961</td>\n      <td>2021-05-01</td>\n      <td>[11, 20, 29, 31, 33, 42]</td>\n      <td>43</td>\n    </tr>\n    <tr>\n      <th>961</th>\n      <td>962</td>\n      <td>2021-05-08</td>\n      <td>[1, 18, 28, 31, 34, 43]</td>\n      <td>40</td>\n    </tr>\n  </tbody>\n</table>\n<p>962 rows × 4 columns</p>\n</div>"
     },
     "metadata": {},
     "execution_count": 11
    }
   ],
   "source": [
    "data"
   ]
  },
  {
   "cell_type": "code",
   "execution_count": 10,
   "metadata": {},
   "outputs": [],
   "source": [
    "data.to_csv(\"./dhlottery_data.csv\",index=False)"
   ]
  },
  {
   "cell_type": "code",
   "execution_count": 10,
   "metadata": {},
   "outputs": [
    {
     "output_type": "error",
     "ename": "KeyboardInterrupt",
     "evalue": "",
     "traceback": [
      "\u001b[0;31m---------------------------------------------------------------------------\u001b[0m",
      "\u001b[0;31mKeyboardInterrupt\u001b[0m                         Traceback (most recent call last)",
      "\u001b[0;32m<ipython-input-10-4d9775b16f90>\u001b[0m in \u001b[0;36m<module>\u001b[0;34m\u001b[0m\n\u001b[1;32m      1\u001b[0m \u001b[0;32mimport\u001b[0m \u001b[0mpymysql\u001b[0m\u001b[0;34m\u001b[0m\u001b[0;34m\u001b[0m\u001b[0m\n\u001b[0;32m----> 2\u001b[0;31m \u001b[0mdb\u001b[0m \u001b[0;34m=\u001b[0m \u001b[0mpymysql\u001b[0m\u001b[0;34m.\u001b[0m\u001b[0mconnect\u001b[0m\u001b[0;34m(\u001b[0m\u001b[0mhost\u001b[0m\u001b[0;34m=\u001b[0m\u001b[0;34m\"localhost\"\u001b[0m\u001b[0;34m,\u001b[0m\u001b[0mport\u001b[0m\u001b[0;34m=\u001b[0m\u001b[0;36m8889\u001b[0m\u001b[0;34m,\u001b[0m\u001b[0muser\u001b[0m\u001b[0;34m=\u001b[0m\u001b[0;34m\"root\"\u001b[0m\u001b[0;34m,\u001b[0m\u001b[0mpasswd\u001b[0m\u001b[0;34m=\u001b[0m\u001b[0;34m\"tabasco3204-1\"\u001b[0m\u001b[0;34m)\u001b[0m\u001b[0;34m\u001b[0m\u001b[0;34m\u001b[0m\u001b[0m\n\u001b[0m",
      "\u001b[0;32m/opt/conda/envs/test/lib/python3.8/site-packages/pymysql/connections.py\u001b[0m in \u001b[0;36m__init__\u001b[0;34m(self, user, password, host, database, unix_socket, port, charset, sql_mode, read_default_file, conv, use_unicode, client_flag, cursorclass, init_command, connect_timeout, read_default_group, autocommit, local_infile, max_allowed_packet, defer_connect, auth_plugin_map, read_timeout, write_timeout, bind_address, binary_prefix, program_name, server_public_key, ssl, ssl_ca, ssl_cert, ssl_disabled, ssl_key, ssl_verify_cert, ssl_verify_identity, compress, named_pipe, passwd, db)\u001b[0m\n\u001b[1;32m    351\u001b[0m             \u001b[0mself\u001b[0m\u001b[0;34m.\u001b[0m\u001b[0m_sock\u001b[0m \u001b[0;34m=\u001b[0m \u001b[0;32mNone\u001b[0m\u001b[0;34m\u001b[0m\u001b[0;34m\u001b[0m\u001b[0m\n\u001b[1;32m    352\u001b[0m         \u001b[0;32melse\u001b[0m\u001b[0;34m:\u001b[0m\u001b[0;34m\u001b[0m\u001b[0;34m\u001b[0m\u001b[0m\n\u001b[0;32m--> 353\u001b[0;31m             \u001b[0mself\u001b[0m\u001b[0;34m.\u001b[0m\u001b[0mconnect\u001b[0m\u001b[0;34m(\u001b[0m\u001b[0;34m)\u001b[0m\u001b[0;34m\u001b[0m\u001b[0;34m\u001b[0m\u001b[0m\n\u001b[0m\u001b[1;32m    354\u001b[0m \u001b[0;34m\u001b[0m\u001b[0m\n\u001b[1;32m    355\u001b[0m     \u001b[0;32mdef\u001b[0m \u001b[0m__enter__\u001b[0m\u001b[0;34m(\u001b[0m\u001b[0mself\u001b[0m\u001b[0;34m)\u001b[0m\u001b[0;34m:\u001b[0m\u001b[0;34m\u001b[0m\u001b[0;34m\u001b[0m\u001b[0m\n",
      "\u001b[0;32m/opt/conda/envs/test/lib/python3.8/site-packages/pymysql/connections.py\u001b[0m in \u001b[0;36mconnect\u001b[0;34m(self, sock)\u001b[0m\n\u001b[1;32m    630\u001b[0m             \u001b[0mself\u001b[0m\u001b[0;34m.\u001b[0m\u001b[0m_next_seq_id\u001b[0m \u001b[0;34m=\u001b[0m \u001b[0;36m0\u001b[0m\u001b[0;34m\u001b[0m\u001b[0;34m\u001b[0m\u001b[0m\n\u001b[1;32m    631\u001b[0m \u001b[0;34m\u001b[0m\u001b[0m\n\u001b[0;32m--> 632\u001b[0;31m             \u001b[0mself\u001b[0m\u001b[0;34m.\u001b[0m\u001b[0m_get_server_information\u001b[0m\u001b[0;34m(\u001b[0m\u001b[0;34m)\u001b[0m\u001b[0;34m\u001b[0m\u001b[0;34m\u001b[0m\u001b[0m\n\u001b[0m\u001b[1;32m    633\u001b[0m             \u001b[0mself\u001b[0m\u001b[0;34m.\u001b[0m\u001b[0m_request_authentication\u001b[0m\u001b[0;34m(\u001b[0m\u001b[0;34m)\u001b[0m\u001b[0;34m\u001b[0m\u001b[0;34m\u001b[0m\u001b[0m\n\u001b[1;32m    634\u001b[0m \u001b[0;34m\u001b[0m\u001b[0m\n",
      "\u001b[0;32m/opt/conda/envs/test/lib/python3.8/site-packages/pymysql/connections.py\u001b[0m in \u001b[0;36m_get_server_information\u001b[0;34m(self)\u001b[0m\n\u001b[1;32m   1053\u001b[0m     \u001b[0;32mdef\u001b[0m \u001b[0m_get_server_information\u001b[0m\u001b[0;34m(\u001b[0m\u001b[0mself\u001b[0m\u001b[0;34m)\u001b[0m\u001b[0;34m:\u001b[0m\u001b[0;34m\u001b[0m\u001b[0;34m\u001b[0m\u001b[0m\n\u001b[1;32m   1054\u001b[0m         \u001b[0mi\u001b[0m \u001b[0;34m=\u001b[0m \u001b[0;36m0\u001b[0m\u001b[0;34m\u001b[0m\u001b[0;34m\u001b[0m\u001b[0m\n\u001b[0;32m-> 1055\u001b[0;31m         \u001b[0mpacket\u001b[0m \u001b[0;34m=\u001b[0m \u001b[0mself\u001b[0m\u001b[0;34m.\u001b[0m\u001b[0m_read_packet\u001b[0m\u001b[0;34m(\u001b[0m\u001b[0;34m)\u001b[0m\u001b[0;34m\u001b[0m\u001b[0;34m\u001b[0m\u001b[0m\n\u001b[0m\u001b[1;32m   1056\u001b[0m         \u001b[0mdata\u001b[0m \u001b[0;34m=\u001b[0m \u001b[0mpacket\u001b[0m\u001b[0;34m.\u001b[0m\u001b[0mget_all_data\u001b[0m\u001b[0;34m(\u001b[0m\u001b[0;34m)\u001b[0m\u001b[0;34m\u001b[0m\u001b[0;34m\u001b[0m\u001b[0m\n\u001b[1;32m   1057\u001b[0m \u001b[0;34m\u001b[0m\u001b[0m\n",
      "\u001b[0;32m/opt/conda/envs/test/lib/python3.8/site-packages/pymysql/connections.py\u001b[0m in \u001b[0;36m_read_packet\u001b[0;34m(self, packet_type)\u001b[0m\n\u001b[1;32m    690\u001b[0m         \u001b[0mbuff\u001b[0m \u001b[0;34m=\u001b[0m \u001b[0mbytearray\u001b[0m\u001b[0;34m(\u001b[0m\u001b[0;34m)\u001b[0m\u001b[0;34m\u001b[0m\u001b[0;34m\u001b[0m\u001b[0m\n\u001b[1;32m    691\u001b[0m         \u001b[0;32mwhile\u001b[0m \u001b[0;32mTrue\u001b[0m\u001b[0;34m:\u001b[0m\u001b[0;34m\u001b[0m\u001b[0;34m\u001b[0m\u001b[0m\n\u001b[0;32m--> 692\u001b[0;31m             \u001b[0mpacket_header\u001b[0m \u001b[0;34m=\u001b[0m \u001b[0mself\u001b[0m\u001b[0;34m.\u001b[0m\u001b[0m_read_bytes\u001b[0m\u001b[0;34m(\u001b[0m\u001b[0;36m4\u001b[0m\u001b[0;34m)\u001b[0m\u001b[0;34m\u001b[0m\u001b[0;34m\u001b[0m\u001b[0m\n\u001b[0m\u001b[1;32m    693\u001b[0m             \u001b[0;31m# if DEBUG: dump_packet(packet_header)\u001b[0m\u001b[0;34m\u001b[0m\u001b[0;34m\u001b[0m\u001b[0;34m\u001b[0m\u001b[0m\n\u001b[1;32m    694\u001b[0m \u001b[0;34m\u001b[0m\u001b[0m\n",
      "\u001b[0;32m/opt/conda/envs/test/lib/python3.8/site-packages/pymysql/connections.py\u001b[0m in \u001b[0;36m_read_bytes\u001b[0;34m(self, num_bytes)\u001b[0m\n\u001b[1;32m    730\u001b[0m         \u001b[0;32mwhile\u001b[0m \u001b[0;32mTrue\u001b[0m\u001b[0;34m:\u001b[0m\u001b[0;34m\u001b[0m\u001b[0;34m\u001b[0m\u001b[0m\n\u001b[1;32m    731\u001b[0m             \u001b[0;32mtry\u001b[0m\u001b[0;34m:\u001b[0m\u001b[0;34m\u001b[0m\u001b[0;34m\u001b[0m\u001b[0m\n\u001b[0;32m--> 732\u001b[0;31m                 \u001b[0mdata\u001b[0m \u001b[0;34m=\u001b[0m \u001b[0mself\u001b[0m\u001b[0;34m.\u001b[0m\u001b[0m_rfile\u001b[0m\u001b[0;34m.\u001b[0m\u001b[0mread\u001b[0m\u001b[0;34m(\u001b[0m\u001b[0mnum_bytes\u001b[0m\u001b[0;34m)\u001b[0m\u001b[0;34m\u001b[0m\u001b[0;34m\u001b[0m\u001b[0m\n\u001b[0m\u001b[1;32m    733\u001b[0m                 \u001b[0;32mbreak\u001b[0m\u001b[0;34m\u001b[0m\u001b[0;34m\u001b[0m\u001b[0m\n\u001b[1;32m    734\u001b[0m             \u001b[0;32mexcept\u001b[0m \u001b[0;34m(\u001b[0m\u001b[0mIOError\u001b[0m\u001b[0;34m,\u001b[0m \u001b[0mOSError\u001b[0m\u001b[0;34m)\u001b[0m \u001b[0;32mas\u001b[0m \u001b[0me\u001b[0m\u001b[0;34m:\u001b[0m\u001b[0;34m\u001b[0m\u001b[0;34m\u001b[0m\u001b[0m\n",
      "\u001b[0;32m/opt/conda/envs/test/lib/python3.8/socket.py\u001b[0m in \u001b[0;36mreadinto\u001b[0;34m(self, b)\u001b[0m\n\u001b[1;32m    667\u001b[0m         \u001b[0;32mwhile\u001b[0m \u001b[0;32mTrue\u001b[0m\u001b[0;34m:\u001b[0m\u001b[0;34m\u001b[0m\u001b[0;34m\u001b[0m\u001b[0m\n\u001b[1;32m    668\u001b[0m             \u001b[0;32mtry\u001b[0m\u001b[0;34m:\u001b[0m\u001b[0;34m\u001b[0m\u001b[0;34m\u001b[0m\u001b[0m\n\u001b[0;32m--> 669\u001b[0;31m                 \u001b[0;32mreturn\u001b[0m \u001b[0mself\u001b[0m\u001b[0;34m.\u001b[0m\u001b[0m_sock\u001b[0m\u001b[0;34m.\u001b[0m\u001b[0mrecv_into\u001b[0m\u001b[0;34m(\u001b[0m\u001b[0mb\u001b[0m\u001b[0;34m)\u001b[0m\u001b[0;34m\u001b[0m\u001b[0;34m\u001b[0m\u001b[0m\n\u001b[0m\u001b[1;32m    670\u001b[0m             \u001b[0;32mexcept\u001b[0m \u001b[0mtimeout\u001b[0m\u001b[0;34m:\u001b[0m\u001b[0;34m\u001b[0m\u001b[0;34m\u001b[0m\u001b[0m\n\u001b[1;32m    671\u001b[0m                 \u001b[0mself\u001b[0m\u001b[0;34m.\u001b[0m\u001b[0m_timeout_occurred\u001b[0m \u001b[0;34m=\u001b[0m \u001b[0;32mTrue\u001b[0m\u001b[0;34m\u001b[0m\u001b[0;34m\u001b[0m\u001b[0m\n",
      "\u001b[0;31mKeyboardInterrupt\u001b[0m: "
     ]
    }
   ],
   "source": [
    "import pymysql \n",
    "db = pymysql.connect(host=\"localhost\",port=8889,user=\"root\",passwd=\"tabasco3204-1\")\n"
   ]
  },
  {
   "cell_type": "code",
   "execution_count": null,
   "metadata": {},
   "outputs": [],
   "source": [
    "import pymysql \n",
    "def connect_db(): \n",
    "    conn = pymysql.connect( host='MySQL Address', port=MySqlPort, \n",
    "    user='MySQL Account', passwd='MySQL Account Password', db='mydata' ) \n",
    "    return conn \n",
    "def getTableSchema(): \n",
    "    db = connect_db() \n",
    "    cursor = db.cursor() \n",
    "    cursor.execute(\"DESCRIBE LOTTO;\") \n",
    "    result = cursor.fetchall() \n",
    "    db.close() \n",
    "    return result\n",
    "\n",
    "def update_db():\n",
    "    db = connect_db() \n",
    "    cursor = db.cursor() # 현재 테이블에 등록된 회차 쿼리\n",
    "    cursor.execute(\"SELECT ROUND FROM LOTTO;\") \n",
    "    result = cursor.fetchall() \n",
    "    round_num_in_table = [x[0] for x in result] if len(round_num_in_table) > 0: print(\"Already {} records are updated\".format(len(round_num_in_table))) # 최대 회차 가져오기 \n",
    "    max_round = getMaxRoundNum() # 테이블 업데이트 \n",
    "    for r in range(1, max_round + 1): # 이미 등록된 레코드인지 체크 \n",
    "        if r in round_num_in_table: \n",
    "            continue \n",
    "        print(f\"Get Lotto Win Number (Round: {r})\") \n",
    "        crawl_result = getWinNumbers(r) \n",
    "        sql = \"INSERT INTO LOTTO (`ROUND`, `DATE`, NUM_1, NUM_2, NUM_3, NUM_4, NUM_5, NUM_6, NUM_BONUS) \"\n",
    "        sql += \"VALUES ({}, '{}', {}, {}, {}, {}, {}, {}, {});\".\\\n",
    "            format( r, crawl_result[\"draw_date\"].strftime(\"%Y-%m-%d\"), \n",
    "             crawl_resul[\"win_nums\"][0], crawl_result[\"win_nums\"][1], \n",
    "             crawl_result[\"win_nums\"][2],crawl_result[\"win_nums\"][3],\n",
    "             crawl_result[\"win_nums\"][4], crawl_resul[\"win_nums\"][5], \n",
    "             crawl_result[\"bonus_num\"] ) \n",
    "        \n",
    "        result = cursor.execute(sql)\n",
    "        print(\">> Update query result: {}\".format(result)) \n",
    "        db.commit();db.close()\n"
   ]
  },
  {
   "cell_type": "code",
   "execution_count": 12,
   "metadata": {},
   "outputs": [],
   "source": [
    "import pandas as pd \n",
    "def get_data_from_db(): \n",
    "    db = connect_db() \n",
    "    cursor = db.cursor() # 테이블 Column 이름 얻어오기 \n",
    "    cursor.execute(f\"SHOW columns FROM LOTTO;\") \n",
    "    columns = [tuple(x)[0] for x in cursor.fetchall()]\n",
    "    # 테이블 모든 레코드 가져오기(SELECT) \n",
    "    cursor.execute(\"SELECT * FROM LOTTO;\") \n",
    "    df = pd.DataFrame(list(cursor.fetchall())) \n",
    "    df.columns = columns \n",
    "    db.close() \n",
    "    return df"
   ]
  },
  {
   "cell_type": "code",
   "execution_count": null,
   "metadata": {},
   "outputs": [],
   "source": []
  }
 ]
}